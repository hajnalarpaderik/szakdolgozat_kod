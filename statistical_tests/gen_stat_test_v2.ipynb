{
 "cells": [
  {
   "cell_type": "code",
   "execution_count": 2,
   "id": "b10e374e",
   "metadata": {},
   "outputs": [],
   "source": [
    "import pandas as pd\n",
    "import numpy as np\n",
    "\n",
    "import scipy.stats as stats\n",
    "\n",
    "from statsmodels.stats.weightstats import ttest_ind\n",
    "\n",
    "import pingouin as pg\n",
    "\n",
    "from io import StringIO\n",
    "import pprint\n",
    "\n",
    "from os import listdir\n",
    "from os.path import isfile, join"
   ]
  },
  {
   "cell_type": "code",
   "execution_count": 3,
   "id": "1987fc12",
   "metadata": {},
   "outputs": [],
   "source": [
    "def get_cameras():\n",
    "    camera_list=[]\n",
    "    \n",
    "    onlyfiles = [f for f in listdir(\".\") if isfile(join(\".\", f))]\n",
    "    for names in onlyfiles:\n",
    "        if \"Cam\" in names:\n",
    "            name_list=names.split(\"_\")\n",
    "            camera_list.append(int(name_list[0][3:]))\n",
    "    return camera_list\n",
    "\n",
    "def get_presets(camera):\n",
    "    dis_char=\"[]'\"\n",
    "    preset_list=[]\n",
    "    \n",
    "    f = open('Cam'+str(camera)+'_list.txt')\n",
    "    for line in f.readlines():\n",
    "        substr=\"Preset:\"\n",
    "        fn=line.split(',')\n",
    "        for words in fn:\n",
    "            for character in dis_char:\n",
    "                words=words.replace(character, \"\")\n",
    "            if substr in words:\n",
    "                id_=words.split(' ')\n",
    "                if \"Preset:\" in id_[0]:\n",
    "                    preset_list.append(int(id_[1]))\n",
    "                else:\n",
    "                    preset_list.append(int(id_[2]))\n",
    "    return preset_list\n",
    "\n",
    "\n",
    "def stat_test(camera, preset):\n",
    "    return_dic = {}\n",
    "    presets = {}\n",
    "    dis_char=\"[]'\"\n",
    "    \n",
    "    f = open('Cam'+str(camera)+'_list.txt')\n",
    "    for line in f.readlines():\n",
    "        substr=\"Preset:\"\n",
    "        fn=line.split(',')\n",
    "        for words in fn:\n",
    "            for character in dis_char:\n",
    "                words=words.replace(character, \"\")\n",
    "            if substr in words:\n",
    "                id_=words.split(' ')\n",
    "                if \"Preset:\" in id_[0]:\n",
    "                    d_id=int(id_[1])\n",
    "                else:\n",
    "                    d_id=int(id_[2])\n",
    "                presets[d_id]=\"\"\n",
    "            else:\n",
    "                tmp=presets[d_id]\n",
    "                if tmp != \"'\":\n",
    "                    tmp+=words+','\n",
    "                    presets[d_id]=tmp\n",
    "    \n",
    "                    \n",
    "    for k, v in presets.items():\n",
    "        presets[k]=presets[k][:-1]\n",
    "    \n",
    "    if presets[preset] != \"\":\n",
    "        Test=StringIO(presets[preset])\n",
    "    \n",
    "        df_cam_pos=pd.DataFrame(pd.read_csv(Test,sep=\",\", header=None).values.reshape(-1,2))\n",
    "        df_cam_pos.columns = [\"run-id\", \"timestamp\"]\n",
    "        df_cam_pos['timestamp'] = pd.to_datetime(df_cam_pos['timestamp'])        \n",
    "        \n",
    "        df_cam_cleaned = pd.read_csv('cam_data_cleaned.csv')\n",
    "        df_cam_cleaned['timestamp'] = pd.to_datetime(df_cam_cleaned['timestamp'])\n",
    "        \n",
    "        bus_data = pd.read_pickle(\"raw_data_with_corrigated_coords.pkl\")\n",
    "        \n",
    "        run_ids = df_cam_pos['run-id']\n",
    "    \n",
    "        bus_data2 = bus_data.loc[run_ids]\n",
    "            \n",
    "        startTime = df_cam_pos.sort_values(by=['timestamp']).iloc[0]['timestamp']\n",
    "        endTime = df_cam_pos.sort_values(by=['timestamp'], ascending=False).iloc[0]['timestamp']\n",
    "        \n",
    "        df_cam_cleaned2 = df_cam_cleaned.loc[(df_cam_cleaned['cam.id'] == \"cam_\"+str(camera)) & (df_cam_cleaned['cam.preset'] == preset) & (df_cam_cleaned['timestamp'] >= startTime) & (df_cam_cleaned['timestamp'] <= endTime)]\n",
    "        \n",
    "        bus_data_sorted = bus_data2['velocity'].to_numpy()\n",
    "    \n",
    "        cam_data_sorted = df_cam_cleaned2['avg_speed'].to_numpy()\n",
    "        \n",
    "        return_dic['bus_var'] = np.var(bus_data_sorted)\n",
    "        \n",
    "        return_dic['cam_var'] = np.var(cam_data_sorted)\n",
    "        \n",
    "        return_dic['f_test'] =  f_test(bus_data_sorted, cam_data_sorted)\n",
    "        \n",
    "        var_diff = abs(return_dic['bus_var'] - return_dic['cam_var'])\n",
    "        \n",
    "        var_ratio = max(return_dic['bus_var'] * 0.1, return_dic['cam_var'] * 0.1)\n",
    "                \n",
    "        if return_dic['f_test'][1] >= 0.05:\n",
    "        \n",
    "            return_dic['t_test'] = stats.ttest_ind(a=bus_data_sorted, b=cam_data_sorted, equal_var=True)\n",
    "            \n",
    "        else:\n",
    "            \n",
    "            return_dic['t_test'] = 'A F-teszt eredménye következtében, a két mintás T-teszt nem végezhető el.'\n",
    "            \n",
    "        return_dic['k_test'] = stats.ks_2samp(bus_data_sorted, cam_data_sorted)\n",
    "        \n",
    "        return return_dic\n",
    "\n",
    "\n",
    "def f_test(x, y):\n",
    "    x = np.array(x)\n",
    "    y = np.array(y)\n",
    "    f = np.var(x, ddof=1)/np.var(y, ddof=1)\n",
    "    dfn = x.size-1\n",
    "    dfd = y.size-1 \n",
    "    p = stats.f.cdf(f, dfn, dfd)\n",
    "    return f, p"
   ]
  },
  {
   "cell_type": "code",
   "execution_count": 4,
   "id": "3389545c",
   "metadata": {},
   "outputs": [
    {
     "name": "stdout",
     "output_type": "stream",
     "text": [
      "[115, 116, 40, 42, 46, 65]\n"
     ]
    }
   ],
   "source": [
    "print(get_cameras())"
   ]
  },
  {
   "cell_type": "code",
   "execution_count": 5,
   "id": "e293a4eb",
   "metadata": {},
   "outputs": [
    {
     "name": "stdout",
     "output_type": "stream",
     "text": [
      "[5, 8, 7, 1]\n"
     ]
    }
   ],
   "source": [
    "print(get_presets(115))"
   ]
  },
  {
   "cell_type": "code",
   "execution_count": 6,
   "id": "03bca19f",
   "metadata": {},
   "outputs": [
    {
     "data": {
      "text/plain": [
       "{'bus_var': 270.9199895350143,\n",
       " 'cam_var': 284.0968809073724,\n",
       " 'f_test': (0.9877632187375521, 0.5122254768465486),\n",
       " 't_test': Ttest_indResult(statistic=-0.9707004623523277, pvalue=0.3354692522370185),\n",
       " 'k_test': KstestResult(statistic=0.1932367149758454, pvalue=0.6434581679973788)}"
      ]
     },
     "execution_count": 6,
     "metadata": {},
     "output_type": "execute_result"
    }
   ],
   "source": [
    "stat_test(115,1)"
   ]
  },
  {
   "cell_type": "code",
   "execution_count": 7,
   "id": "47c465f6",
   "metadata": {},
   "outputs": [
    {
     "data": {
      "text/plain": [
       "[{'bus_var': 156.2374940527689,\n",
       "  'cam_var': 615.0212244897959,\n",
       "  'f_test': (0.2622013795348953, 0.003068512575829525),\n",
       "  't_test': 'A F-teszt eredménye következtében, a két mintás T-teszt nem végezhető el.',\n",
       "  'k_test': KstestResult(statistic=0.28403361344537814, pvalue=0.2379394930842439),\n",
       "  'cam': 115,\n",
       "  'pres': 5},\n",
       " {'bus_var': 290.2305295513214,\n",
       "  'cam_var': 485.94775510204084,\n",
       "  'f_test': (0.5878161576909334, 0.02855428804594509),\n",
       "  't_test': 'A F-teszt eredménye következtében, a két mintás T-teszt nem végezhető el.',\n",
       "  'k_test': KstestResult(statistic=0.21818181818181817, pvalue=0.17343086385328033),\n",
       "  'cam': 115,\n",
       "  'pres': 8},\n",
       " {'bus_var': 80.63999496460019,\n",
       "  'cam_var': 629.5,\n",
       "  'f_test': (0.12194292633798832, 5.69274597112887e-06),\n",
       "  't_test': 'A F-teszt eredménye következtében, a két mintás T-teszt nem végezhető el.',\n",
       "  'k_test': KstestResult(statistic=0.3333333333333333, pvalue=0.25457400294766874),\n",
       "  'cam': 115,\n",
       "  'pres': 7},\n",
       " {'bus_var': 270.9199895350143,\n",
       "  'cam_var': 284.0968809073724,\n",
       "  'f_test': (0.9877632187375521, 0.5122254768465486),\n",
       "  't_test': Ttest_indResult(statistic=-0.9707004623523277, pvalue=0.3354692522370185),\n",
       "  'k_test': KstestResult(statistic=0.1932367149758454, pvalue=0.6434581679973788),\n",
       "  'cam': 115,\n",
       "  'pres': 1},\n",
       " {'bus_var': 91.50152755637022,\n",
       "  'cam_var': 277.15879017013236,\n",
       "  'f_test': (0.32590022716309075, 9.8645182833063e-07),\n",
       "  't_test': 'A F-teszt eredménye következtében, a két mintás T-teszt nem végezhető el.',\n",
       "  'k_test': KstestResult(statistic=0.4868781825303564, pvalue=1.5109313067362962e-07),\n",
       "  'cam': 116,\n",
       "  'pres': 1},\n",
       " {'bus_var': 155.84590950711987,\n",
       "  'cam_var': 264.8024691358025,\n",
       "  'f_test': (0.5834076084096026, 0.03888310367789362),\n",
       "  't_test': 'A F-teszt eredménye következtében, a két mintás T-teszt nem végezhető el.',\n",
       "  'k_test': KstestResult(statistic=0.29273504273504275, pvalue=0.041014083374333654),\n",
       "  'cam': 116,\n",
       "  'pres': 4},\n",
       " {'bus_var': 82.29059815832068,\n",
       "  'cam_var': 696.1464331136548,\n",
       "  'f_test': (0.11848111820754038, 9.685042748612564e-08),\n",
       "  't_test': 'A F-teszt eredménye következtében, a két mintás T-teszt nem végezhető el.',\n",
       "  'k_test': KstestResult(statistic=0.6685205784204672, pvalue=6.672862016277037e-07),\n",
       "  'cam': 40,\n",
       "  'pres': 4},\n",
       " {'bus_var': 56.08916780528328,\n",
       "  'cam_var': 528.8945480562908,\n",
       "  'f_test': (0.10655787640594117, 3.1694892778339247e-44),\n",
       "  't_test': 'A F-teszt eredménye következtében, a két mintás T-teszt nem végezhető el.',\n",
       "  'k_test': KstestResult(statistic=0.4491622239146992, pvalue=2.404203021842823e-23),\n",
       "  'cam': 42,\n",
       "  'pres': 6},\n",
       " None,\n",
       " {'bus_var': 49.055202310105145,\n",
       "  'cam_var': 10.5625,\n",
       "  'f_test': (2.432717837863766, 0.528366338426199),\n",
       "  't_test': Ttest_indResult(statistic=-7.925403366337, pvalue=6.894150768191663e-08),\n",
       "  'k_test': KstestResult(statistic=1.0, pvalue=0.007246376811594235),\n",
       "  'cam': 42,\n",
       "  'pres': 4},\n",
       " {'bus_var': 49.055202310105145,\n",
       "  'cam_var': 10.5625,\n",
       "  'f_test': (2.432717837863766, 0.528366338426199),\n",
       "  't_test': Ttest_indResult(statistic=-7.925403366337, pvalue=6.894150768191663e-08),\n",
       "  'k_test': KstestResult(statistic=1.0, pvalue=0.007246376811594235),\n",
       "  'cam': 42,\n",
       "  'pres': 4},\n",
       " {'bus_var': 101.39499111920378,\n",
       "  'cam_var': 392.5212620027435,\n",
       "  'f_test': (0.25957005551148216, 7.698509155515543e-06),\n",
       "  't_test': 'A F-teszt eredménye következtében, a két mintás T-teszt nem végezhető el.',\n",
       "  'k_test': KstestResult(statistic=0.3888888888888889, pvalue=0.0008636791344446282),\n",
       "  'cam': 46,\n",
       "  'pres': 9},\n",
       " {'bus_var': 109.45640634782806,\n",
       "  'cam_var': 237.58711374095992,\n",
       "  'f_test': (0.4498914960953129, 7.137927616735305e-05),\n",
       "  't_test': 'A F-teszt eredménye következtében, a két mintás T-teszt nem végezhető el.',\n",
       "  'k_test': KstestResult(statistic=0.3654418498168498, pvalue=8.31545620966212e-05),\n",
       "  'cam': 46,\n",
       "  'pres': 1},\n",
       " {'bus_var': 92.8978458448685,\n",
       "  'cam_var': 878.3034894398531,\n",
       "  'f_test': (0.10576964222710199, 3.5982983145094723e-09),\n",
       "  't_test': 'A F-teszt eredménye következtében, a két mintás T-teszt nem végezhető el.',\n",
       "  'k_test': KstestResult(statistic=0.6060606060606061, pvalue=5.6649592656974375e-06),\n",
       "  'cam': 46,\n",
       "  'pres': 8},\n",
       " {'bus_var': 190.72143339807351,\n",
       "  'cam_var': 366.1696,\n",
       "  'f_test': (0.5053978086634252, 0.010898302734550292),\n",
       "  't_test': 'A F-teszt eredménye következtében, a két mintás T-teszt nem végezhető el.',\n",
       "  'k_test': KstestResult(statistic=0.10340425531914893, pvalue=0.9655703272931497),\n",
       "  'cam': 46,\n",
       "  'pres': 5},\n",
       " {'bus_var': 54.13260255684681,\n",
       "  'cam_var': 1006.4540816326529,\n",
       "  'f_test': (0.05458584573340149, 3.15945903643228e-13),\n",
       "  't_test': 'A F-teszt eredménye következtében, a két mintás T-teszt nem végezhető el.',\n",
       "  'k_test': KstestResult(statistic=0.5034562211981567, pvalue=3.4669699387923636e-05),\n",
       "  'cam': 65,\n",
       "  'pres': 5},\n",
       " None,\n",
       " {'bus_var': 233.20988811189724,\n",
       "  'cam_var': 222.6938775510204,\n",
       "  'f_test': (0.995573126333017, 0.4644726870691484),\n",
       "  't_test': Ttest_indResult(statistic=-0.04232111311876386, pvalue=0.9663959823605004),\n",
       "  'k_test': KstestResult(statistic=0.1744186046511628, pvalue=0.8432359415784716),\n",
       "  'cam': 65,\n",
       "  'pres': 2},\n",
       " None]"
      ]
     },
     "execution_count": 7,
     "metadata": {},
     "output_type": "execute_result"
    }
   ],
   "source": [
    "test_res = []\n",
    "\n",
    "for camera in get_cameras():\n",
    "    for preset in get_presets(camera):\n",
    "        tmp = stat_test(camera, preset)\n",
    "        if tmp != None:\n",
    "            tmp['cam'] = camera\n",
    "            tmp['pres'] = preset\n",
    "        test_res.append(tmp)\n",
    "        \n",
    "test_res"
   ]
  },
  {
   "cell_type": "code",
   "execution_count": 8,
   "id": "33ae16f1",
   "metadata": {},
   "outputs": [
    {
     "data": {
      "text/plain": [
       "[{'bus_var': 270.9199895350143,\n",
       "  'cam_var': 284.0968809073724,\n",
       "  'f_test': (0.9877632187375521, 0.5122254768465486),\n",
       "  't_test': Ttest_indResult(statistic=-0.9707004623523277, pvalue=0.3354692522370185),\n",
       "  'k_test': KstestResult(statistic=0.1932367149758454, pvalue=0.6434581679973788),\n",
       "  'cam': 115,\n",
       "  'pres': 1},\n",
       " {'bus_var': 233.20988811189724,\n",
       "  'cam_var': 222.6938775510204,\n",
       "  'f_test': (0.995573126333017, 0.4644726870691484),\n",
       "  't_test': Ttest_indResult(statistic=-0.04232111311876386, pvalue=0.9663959823605004),\n",
       "  'k_test': KstestResult(statistic=0.1744186046511628, pvalue=0.8432359415784716),\n",
       "  'cam': 65,\n",
       "  'pres': 2}]"
      ]
     },
     "execution_count": 8,
     "metadata": {},
     "output_type": "execute_result"
    }
   ],
   "source": [
    "sort_res = []\n",
    "\n",
    "for test in test_res:\n",
    "    if test != None:\n",
    "        if not isinstance(test.get('t_test'), str) and test.get('t_test').pvalue>=0.05:\n",
    "            sort_res.append(test)\n",
    "        \n",
    "sort_res"
   ]
  },
  {
   "cell_type": "code",
   "execution_count": 9,
   "id": "51bc8feb",
   "metadata": {},
   "outputs": [
    {
     "data": {
      "text/plain": [
       "[{'bus_var': 156.2374940527689,\n",
       "  'cam_var': 615.0212244897959,\n",
       "  'f_test': (0.2622013795348953, 0.003068512575829525),\n",
       "  't_test': 'A F-teszt eredménye következtében, a két mintás T-teszt nem végezhető el.',\n",
       "  'k_test': KstestResult(statistic=0.28403361344537814, pvalue=0.2379394930842439),\n",
       "  'cam': 115,\n",
       "  'pres': 5},\n",
       " {'bus_var': 290.2305295513214,\n",
       "  'cam_var': 485.94775510204084,\n",
       "  'f_test': (0.5878161576909334, 0.02855428804594509),\n",
       "  't_test': 'A F-teszt eredménye következtében, a két mintás T-teszt nem végezhető el.',\n",
       "  'k_test': KstestResult(statistic=0.21818181818181817, pvalue=0.17343086385328033),\n",
       "  'cam': 115,\n",
       "  'pres': 8},\n",
       " {'bus_var': 80.63999496460019,\n",
       "  'cam_var': 629.5,\n",
       "  'f_test': (0.12194292633798832, 5.69274597112887e-06),\n",
       "  't_test': 'A F-teszt eredménye következtében, a két mintás T-teszt nem végezhető el.',\n",
       "  'k_test': KstestResult(statistic=0.3333333333333333, pvalue=0.25457400294766874),\n",
       "  'cam': 115,\n",
       "  'pres': 7},\n",
       " {'bus_var': 270.9199895350143,\n",
       "  'cam_var': 284.0968809073724,\n",
       "  'f_test': (0.9877632187375521, 0.5122254768465486),\n",
       "  't_test': Ttest_indResult(statistic=-0.9707004623523277, pvalue=0.3354692522370185),\n",
       "  'k_test': KstestResult(statistic=0.1932367149758454, pvalue=0.6434581679973788),\n",
       "  'cam': 115,\n",
       "  'pres': 1},\n",
       " {'bus_var': 190.72143339807351,\n",
       "  'cam_var': 366.1696,\n",
       "  'f_test': (0.5053978086634252, 0.010898302734550292),\n",
       "  't_test': 'A F-teszt eredménye következtében, a két mintás T-teszt nem végezhető el.',\n",
       "  'k_test': KstestResult(statistic=0.10340425531914893, pvalue=0.9655703272931497),\n",
       "  'cam': 46,\n",
       "  'pres': 5},\n",
       " {'bus_var': 233.20988811189724,\n",
       "  'cam_var': 222.6938775510204,\n",
       "  'f_test': (0.995573126333017, 0.4644726870691484),\n",
       "  't_test': Ttest_indResult(statistic=-0.04232111311876386, pvalue=0.9663959823605004),\n",
       "  'k_test': KstestResult(statistic=0.1744186046511628, pvalue=0.8432359415784716),\n",
       "  'cam': 65,\n",
       "  'pres': 2}]"
      ]
     },
     "execution_count": 9,
     "metadata": {},
     "output_type": "execute_result"
    }
   ],
   "source": [
    "sort_res_k = []\n",
    "\n",
    "for test in test_res:\n",
    "    if test != None:\n",
    "        if test.get('k_test').pvalue>=0.05:\n",
    "            sort_res_k.append(test)\n",
    "        \n",
    "sort_res_k"
   ]
  },
  {
   "cell_type": "code",
   "execution_count": 10,
   "id": "027c749c",
   "metadata": {},
   "outputs": [
    {
     "name": "stdout",
     "output_type": "stream",
     "text": [
      "Kiemelkedően jó kamerák és preszetek:\n"
     ]
    },
    {
     "data": {
      "text/plain": [
       "[{'Camera': 115, 'Preset': 1}, {'Camera': 65, 'Preset': 2}]"
      ]
     },
     "execution_count": 10,
     "metadata": {},
     "output_type": "execute_result"
    }
   ],
   "source": [
    "sort_cams = []\n",
    "\n",
    "for cam in sort_res:\n",
    "    sort_cams.append({'Camera': cam.get('cam'), 'Preset': cam.get('pres')})\n",
    "\n",
    "print(\"Kiemelkedően jó kamerák és preszetek:\")\n",
    "sort_cams"
   ]
  }
 ],
 "metadata": {
  "kernelspec": {
   "display_name": "Python 3 (ipykernel)",
   "language": "python",
   "name": "python3"
  },
  "language_info": {
   "codemirror_mode": {
    "name": "ipython",
    "version": 3
   },
   "file_extension": ".py",
   "mimetype": "text/x-python",
   "name": "python",
   "nbconvert_exporter": "python",
   "pygments_lexer": "ipython3",
   "version": "3.9.15"
  }
 },
 "nbformat": 4,
 "nbformat_minor": 5
}
